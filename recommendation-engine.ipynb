{
 "cells": [
  {
   "cell_type": "code",
   "execution_count": 1,
   "id": "315d7676",
   "metadata": {},
   "outputs": [],
   "source": [
    "import findspark\n",
    "findspark.init()\n",
    "findspark.find()\n",
    "from pyspark.sql import SparkSession"
   ]
  },
  {
   "cell_type": "code",
   "execution_count": 2,
   "id": "cc97b9d8",
   "metadata": {},
   "outputs": [],
   "source": [
    "# Initialize Spark session\n",
    "\n",
    "sc = SparkSession.builder.appName(\"Product_Recommendation\") \\\n",
    ".getOrCreate()\n",
    "\n",
    "sc.sparkContext.setLogLevel(\"ERROR\")"
   ]
  },
  {
   "cell_type": "code",
   "execution_count": 3,
   "id": "793d9f81",
   "metadata": {},
   "outputs": [],
   "source": [
    "df = sc.read.option('header', True).csv('/kaggle/input/ecommerce-behavior-data-from-multi-category-store/2019-Nov.csv')\n",
    "\n",
    "#df = df.sample(0.001, seed=321)"
   ]
  },
  {
   "cell_type": "code",
   "execution_count": 4,
   "id": "8402e187",
   "metadata": {},
   "outputs": [
    {
     "name": "stdout",
     "output_type": "stream",
     "text": [
      "root\n",
      "\n",
      " |-- event_time: string (nullable = true)\n",
      "\n",
      " |-- event_type: string (nullable = true)\n",
      "\n",
      " |-- product_id: string (nullable = true)\n",
      "\n",
      " |-- category_id: string (nullable = true)\n",
      "\n",
      " |-- category_code: string (nullable = true)\n",
      "\n",
      " |-- brand: string (nullable = true)\n",
      "\n",
      " |-- price: string (nullable = true)\n",
      "\n",
      " |-- user_id: string (nullable = true)\n",
      "\n",
      " |-- user_session: string (nullable = true)\n",
      "\n",
      "\n"
     ]
    }
   ],
   "source": [
    "df.printSchema()"
   ]
  },
  {
   "cell_type": "code",
   "execution_count": 5,
   "id": "d3a2f80f",
   "metadata": {},
   "outputs": [
    {
     "name": "stdout",
     "output_type": "stream",
     "text": [
      "+-----------------------+----------+----------+-------------------+-------------------------+------+------+---------+------------------------------------+\n",
      "\n",
      "|event_time             |event_type|product_id|category_id        |category_code            |brand |price |user_id  |user_session                        |\n",
      "\n",
      "+-----------------------+----------+----------+-------------------+-------------------------+------+------+---------+------------------------------------+\n",
      "\n",
      "|2019-11-01 00:00:00 UTC|view      |1003461   |2053013555631882655|electronics.smartphone   |xiaomi|489.07|520088904|4d3b30da-a5e4-49df-b1a8-ba5943f1dd33|\n",
      "\n",
      "|2019-11-01 00:00:00 UTC|view      |5000088   |2053013566100866035|appliances.sewing_machine|janome|293.65|530496790|8e5f4f83-366c-4f70-860e-ca7417414283|\n",
      "\n",
      "|2019-11-01 00:00:01 UTC|view      |17302664  |2053013553853497655|null                     |creed |28.31 |561587266|755422e7-9040-477b-9bd2-6a6e8fd97387|\n",
      "\n",
      "|2019-11-01 00:00:01 UTC|view      |3601530   |2053013563810775923|appliances.kitchen.washer|lg    |712.87|518085591|3bfb58cd-7892-48cc-8020-2f17e6de6e7f|\n",
      "\n",
      "|2019-11-01 00:00:01 UTC|view      |1004775   |2053013555631882655|electronics.smartphone   |xiaomi|183.27|558856683|313628f1-68b8-460d-84f6-cec7a8796ef2|\n",
      "\n",
      "+-----------------------+----------+----------+-------------------+-------------------------+------+------+---------+------------------------------------+\n",
      "\n",
      "only showing top 5 rows\n",
      "\n",
      "\n"
     ]
    }
   ],
   "source": [
    "df.show(5, truncate=False)"
   ]
  },
  {
   "cell_type": "markdown",
   "id": "a0bf1ab3",
   "metadata": {},
   "source": [
    "## Preprocess"
   ]
  },
  {
   "cell_type": "code",
   "execution_count": 36,
   "id": "204469bf",
   "metadata": {},
   "outputs": [],
   "source": [
    "def preprocess(df):\n",
    "    \n",
    "    # Change data types\n",
    "    df = df.withColumn('event_time', to_timestamp('event_time'))\n",
    "    df = df.withColumn('user_id', col('user_id').cast('integer'))\n",
    "    df = df.withColumn('product_id', col('product_id').cast('integer'))\n",
    "    df = df.withColumn('category_id', col('category_id').cast('long'))\n",
    "    \n",
    "    # Limit the number of carts to 1 per session for each user-product pair\n",
    "    cart_df = df.filter(col('event_type') == 'cart')\n",
    "    df = df.filter(col('event_type') != 'cart')\n",
    "    cart_df = cart_df.dropDuplicates(subset=['product_id', 'user_id', 'user_session'])\n",
    "    df = df.union(cart_df)\n",
    "    \n",
    "    # Split category codes into sub categories\n",
    "    #df = df.withColumn('category', split(df['category_code'], '\\.').getItem(0)) \\\n",
    "    #   .withColumn('sub_category', split(df['category_code'], '\\.').getItem(1)) \\\n",
    "    #   .withColumn('sub_sub_category', split(df['category_code'], '\\.').getItem(2))\n",
    "\n",
    "    return df"
   ]
  },
  {
   "cell_type": "code",
   "execution_count": 38,
   "id": "ff3712f6",
   "metadata": {},
   "outputs": [],
   "source": [
    "df = preprocess(df)"
   ]
  },
  {
   "cell_type": "code",
   "execution_count": null,
   "id": "de85dc82",
   "metadata": {
    "scrolled": true
   },
   "outputs": [],
   "source": [
    "# Get the timestamp of the most recent event in the df\n",
    "last_date = df.agg(max('event_time')).collect()[0][0]\n",
    "df = df.withColumn('last_date', lit(last_date))\n",
    "\n",
    "# Calculate the recency of each event in terms of days\n",
    "df = df.withColumn('recency', (col('last_date').cast('double') - col('event_time').cast('double')) / 86400)\n",
    "df = df.drop('last_date')\n",
    "\n",
    "# Half-life decay function, the value of an event is halved after 20 days\n",
    "df = df.withColumn('recency_coef', expr('exp(ln(0.5)*recency/20)'))"
   ]
  },
  {
   "cell_type": "code",
   "execution_count": 22,
   "id": "0dd323b6",
   "metadata": {},
   "outputs": [],
   "source": [
    "# Find the number of views, carts and purchases for each user-product pair\n",
    "interactions = df.groupby(['user_id', 'product_id']).agg(sum(when(df['event_type'] == 'view', 1) * df['recency_coef']).alias('views'),\n",
    "                                                         sum(when(df['event_type'] == 'cart', 1) * df['recency_coef']).alias('carts'),\n",
    "                                                         sum(when(df['event_type'] == 'purchase', 1) * df['recency_coef']).alias('purchases'))\n",
    "interactions = interactions.na.fill(0)"
   ]
  },
  {
   "cell_type": "markdown",
   "id": "d1a6fc9e",
   "metadata": {},
   "source": [
    "<font size=3>The interaction matrix is calculated by assigning weights to each type of user interaction. These weighted interactions are then summed to get the total interaction score, which has been subject to a half-life decay function to give more weight to recent interactions. Finally, the values are transformed by taking the logarithm with base 10 and capping the maximum value at 100 to ensure scalability and consistency, while reducing the effect of outliers. The resulting matrix provides a measure of strength of the relationship between users and products."
   ]
  },
  {
   "cell_type": "code",
   "execution_count": 24,
   "id": "43df95f7",
   "metadata": {},
   "outputs": [],
   "source": [
    "def calculate_interaction_matrix(df, view_weight=0.1, cart_weight=0.3, purchase_weight=1.0):\n",
    " \n",
    "    # Create a new column with the weighted interaction value\n",
    "    df = df.withColumn('interaction', view_weight * col('views') + cart_weight * col('carts') + purchase_weight * col('purchases'))\n",
    "    \n",
    "    # Use log10 value for views, carts and purchases\n",
    "    df = df.withColumn('interaction', log10(col('interaction') + 1))\n",
    "    \n",
    "    # Set the max possible value to 100 (log100 = 2)\n",
    "    df = df.withColumn('interaction', when(col('interaction') > 2, 2).otherwise(col('interaction')))\n",
    "\n",
    "    return df"
   ]
  },
  {
   "cell_type": "code",
   "execution_count": 25,
   "id": "d3db123a",
   "metadata": {
    "scrolled": true
   },
   "outputs": [],
   "source": [
    "interaction_matrix = calculate_interaction_matrix(interactions)"
   ]
  },
  {
   "cell_type": "code",
   "execution_count": null,
   "id": "066786a3",
   "metadata": {},
   "outputs": [],
   "source": [
    "#  User-product pairs with the highest interaction scores\n",
    "\n",
    "interaction_matrix.sort('interaction', ascending=False).show()"
   ]
  },
  {
   "cell_type": "markdown",
   "id": "951ea61f",
   "metadata": {},
   "source": [
    "<font size=3>After creating an interaction matrix that quantifies user-product interactions using weights, we can feed this matrix into the ALS algorithm. This algorithm uses the matrix to learn the latent factors of both users and products, which can then be used to make personalized recommendations for users. \n",
    "    \n",
    "<font size=3>To optimize the performance of the ALS algorithm, we can use a cross-validation pipeline, which allows us to test and fine-tune different sets of parameters to find the best configuration for our recommendation system. Ultimately, the goal is to create a model that can make accurate and relevant product recommendations to users based on their previous interactions with the system."
   ]
  },
  {
   "cell_type": "code",
   "execution_count": 27,
   "id": "b4d6a444",
   "metadata": {},
   "outputs": [],
   "source": [
    "from pyspark.ml.recommendation import ALS\n",
    "from pyspark.ml.evaluation import RegressionEvaluator\n",
    "from pyspark.ml.tuning import CrossValidator, ParamGridBuilder\n",
    "from pyspark.ml import Pipeline\n",
    "\n",
    "def cross_validate_als(interaction_matrix):\n",
    "    \n",
    "    # Define the ALS model\n",
    "    als = ALS(userCol='user_id', itemCol='product_id', ratingCol='interaction', \n",
    "              nonnegative=True, coldStartStrategy='drop', implicitPrefs=True)\n",
    "\n",
    "    # Define the parameter grid for hyperparameter tuning\n",
    "    param_grid = ParamGridBuilder() \\\n",
    "        .addGrid(als.rank, [5, 10, 15, 20]) \\   \n",
    "        .addGrid(als.regParam, [0.005, 0.01, 0.05, 0.1]) \\\n",
    "        .addGrid(als.alpha, [0, 1.0, 5.0]) \\\n",
    "        .build()\n",
    "        \n",
    "    # Define the evaluator for computing the evaluation metrics\n",
    "    evaluator = RegressionEvaluator(metricName='rmse', labelCol='interaction', predictionCol='prediction')\n",
    "\n",
    "    # Define the cross-validator for performing 5-fold cross-validation\n",
    "    cv = CrossValidator(estimator=als, estimatorParamMaps=param_grid, evaluator=evaluator, numFolds=5, collectSubModels=False)\n",
    "\n",
    "    # Define the pipeline for fitting the model and evaluating it\n",
    "    pipeline = Pipeline(stages=[cv])\n",
    "\n",
    "    # Fit the pipeline on the data and evaluate the model\n",
    "    model = pipeline.fit(interaction_matrix)\n",
    "    \n",
    "    return model"
   ]
  },
  {
   "cell_type": "code",
   "execution_count": 29,
   "id": "0a029b27",
   "metadata": {},
   "outputs": [
    {
     "name": "stderr",
     "output_type": "stream",
     "text": [
      "[Stage 2884:=================================================>    (11 + 1) / 12]\r"
     ]
    },
    {
     "name": "stdout",
     "output_type": "stream",
     "text": [
      " rmse:0.014108922052560617 mae:0.00670138082548715\n",
      "\n",
      "rank:15 regParam:0.005 alpha:0.0\n"
     ]
    },
    {
     "name": "stderr",
     "output_type": "stream",
     "text": [
      "\n",
      "                                                                                \r"
     ]
    }
   ],
   "source": [
    "model = cross_validate_als(interaction_matrix)\n",
    "\n",
    "# Model with the lowest RMSE value \n",
    "bestModel = model.stages[0].bestModel\n",
    "\n",
    "# Make predictions\n",
    "predictions = bestModel.transform(interaction_matrix)\n",
    "\n",
    "# Calculate RMSE and MAE metrics\n",
    "evaluator = RegressionEvaluator(metricName='rmse', labelCol='interaction', predictionCol='prediction')\n",
    "rmse = evaluator.setMetricName('rmse').evaluate(predictions)\n",
    "mae = evaluator.setMetricName('mae').evaluate(predictions)\n",
    "print(' rmse:' + str(rmse) + ' mae:' + str(mae))\n",
    "\n",
    "# Print the parameters of the model with the lowest RMSE value\n",
    "regParam = bestModel._java_obj.parent().getRegParam()\n",
    "rank = bestModel._java_obj.parent().getRank()\n",
    "alpha = bestModel._java_obj.parent().getAlpha()\n",
    "print('rank:' + str(rank) + ' regParam:' + str(regParam) + ' alpha:' + str(alpha))"
   ]
  },
  {
   "cell_type": "markdown",
   "id": "f5966d87",
   "metadata": {},
   "source": [
    "<font size=3>After identifying the best set of parameters, we can build an ALS model directly, instead of running the cross-validation function repeatedly. This approach saves time and resources, making it more efficient to generate product recommendations."
   ]
  },
  {
   "cell_type": "code",
   "execution_count": 26,
   "id": "d8394799",
   "metadata": {},
   "outputs": [],
   "source": [
    "from pyspark.ml.recommendation import ALS\n",
    "from pyspark.ml.evaluation import RegressionEvaluator\n",
    "\n",
    "def simple_als(interaction_matrix):\n",
    "    \n",
    "    # Train-test split\n",
    "    (train, test) = interaction_matrix.randomSplit([0.8, 0.2])\n",
    "    \n",
    "    # Initialize the model with the optimized parameters\n",
    "    als = ALS(userCol='user_id', itemCol='product_id', ratingCol='interaction', \n",
    "              alpha=1, regParam=0.005, rank=15, implicitPrefs=True, \n",
    "              nonnegative=True, coldStartStrategy='drop')\n",
    "\n",
    "    # Fit the ALS model on the ratings data\n",
    "    model = als.fit(train)\n",
    "    \n",
    "    # Make predictions\n",
    "    predictions = model.transform(test)\n",
    "    \n",
    "    # Calculate the RMSE and MAE metrics\n",
    "    evaluator = RegressionEvaluator(metricName='rmse', labelCol='interaction', predictionCol='prediction')\n",
    "    rmse = evaluator.evaluate(predictions)\n",
    "    mae = evaluator.setMetricName('mae').evaluate(predictions)\n",
    "    print('test rmse:' + str(rmse) + ' mae:' + str(mae))\n",
    "    \n",
    "    return model"
   ]
  },
  {
   "cell_type": "code",
   "execution_count": 27,
   "id": "4cb9796a",
   "metadata": {},
   "outputs": [
    {
     "name": "stderr",
     "output_type": "stream",
     "text": [
      "[Stage 779:==================================================>     (9 + 1) / 10]\r"
     ]
    },
    {
     "name": "stdout",
     "output_type": "stream",
     "text": [
      "test rmse:0.09362263416331866 mae:0.05455085317688715\n"
     ]
    },
    {
     "name": "stderr",
     "output_type": "stream",
     "text": [
      "\n",
      "                                                                                \r"
     ]
    }
   ],
   "source": [
    "als_model = simple_als(interaction_matrix)"
   ]
  },
  {
   "cell_type": "markdown",
   "id": "72fab91c",
   "metadata": {},
   "source": [
    "## Recommend Products for Users"
   ]
  },
  {
   "cell_type": "code",
   "execution_count": 28,
   "id": "e82fa2c6",
   "metadata": {},
   "outputs": [],
   "source": [
    "# 3 random users\n",
    "user_subset = [565606905, 570112140, 564068124]\n",
    "\n",
    "# Recommend top 500 products for the users\n",
    "recommendations = sc.createDataFrame([(user, 0) for user in user_subset], ['user_id', 'product_id'])\n",
    "recommendations = als_model.recommendForUserSubset(recommendations, 500)"
   ]
  },
  {
   "cell_type": "code",
   "execution_count": 29,
   "id": "760bb0ce",
   "metadata": {},
   "outputs": [
    {
     "name": "stderr",
     "output_type": "stream",
     "text": [
      "[Stage 835:===================================================> (310 + 8) / 320]\r"
     ]
    },
    {
     "name": "stdout",
     "output_type": "stream",
     "text": [
      "+---------+--------------------+\n",
      "\n",
      "|  user_id|     recommendations|\n",
      "\n",
      "+---------+--------------------+\n",
      "\n",
      "|570112140|[{1004833, 0.8508...|\n",
      "\n",
      "|564068124|[{1004870, 1.1288...|\n",
      "\n",
      "|565606905|[{1004767, 0.9786...|\n",
      "\n",
      "+---------+--------------------+\n",
      "\n",
      "\n"
     ]
    },
    {
     "name": "stderr",
     "output_type": "stream",
     "text": [
      "\n",
      "                                                                                \r"
     ]
    }
   ],
   "source": [
    "recommendations.show()"
   ]
  },
  {
   "cell_type": "code",
   "execution_count": 30,
   "id": "74d76637",
   "metadata": {},
   "outputs": [
    {
     "name": "stderr",
     "output_type": "stream",
     "text": [
      "                                                                                \r"
     ]
    }
   ],
   "source": [
    "# Select user 564068124\n",
    "\n",
    "recs_for_user_1 = sc.createDataFrame(recommendations.collect()[1][1])"
   ]
  },
  {
   "cell_type": "code",
   "execution_count": 21,
   "id": "db8cdf42",
   "metadata": {},
   "outputs": [
    {
     "name": "stderr",
     "output_type": "stream",
     "text": [
      "[Stage 47:======================================================> (76 + 2) / 78]\r"
     ]
    },
    {
     "name": "stdout",
     "output_type": "stream",
     "text": [
      "+---------+----------+------------------+-------------------+------------------+\n",
      "\n",
      "|  user_id|product_id|             views|              carts|         purchases|\n",
      "\n",
      "+---------+----------+------------------+-------------------+------------------+\n",
      "\n",
      "|564068124|   1004833|139.54991783915662|  33.93168190423818| 99.65625067729746|\n",
      "\n",
      "|564068124|   1004767| 99.10566057156984|  21.35346968009205| 68.77746116880749|\n",
      "\n",
      "|564068124|   1004856|22.286414097085476|  5.485494261870614|12.006362990183272|\n",
      "\n",
      "|564068124|   1004870|12.360455924522274| 2.8240715924850974|  8.56032828206366|\n",
      "\n",
      "|564068124|   1004873|10.745808997156987| 2.9390547109247525|  8.01436540346296|\n",
      "\n",
      "|564068124|   1005115| 9.649142656908744| 1.1602375014526323| 6.924999866007589|\n",
      "\n",
      "|564068124|   1003525| 5.740135679629443|                0.0| 4.576104202695865|\n",
      "\n",
      "|564068124|   1004875| 5.359923757611487|   0.89632110532636| 4.463581838693649|\n",
      "\n",
      "|564068124|   1307310| 3.429727471133744|  1.795425924579977|2.6126704924519952|\n",
      "\n",
      "|564068124|   1004858|2.8272097260555076| 0.5653909131855773|2.2617913673787156|\n",
      "\n",
      "|564068124|   1005186|2.6366121533009363|                0.0| 2.260001623893033|\n",
      "\n",
      "|564068124|   1002544|2.5790146241787646|0.36840412262634364| 2.210589663198723|\n",
      "\n",
      "|564068124|   1307545|3.4661725908387444| 0.6931797933123995| 2.079642818956845|\n",
      "\n",
      "|564068124|  21404397| 3.743007563822526|  0.920910286339787|1.8419073844766902|\n",
      "\n",
      "|564068124|   5100338|2.5545110648643967| 0.8514823976708903|1.7030126134955745|\n",
      "\n",
      "|564068124|   1004320| 2.497754187179987|                0.0|1.6651626778710997|\n",
      "\n",
      "|564068124|   1005100|2.2593632005303874|0.37653908430026317|1.5062037655949887|\n",
      "\n",
      "|564068124|   5100610| 1.913936736470578| 0.3828130204595373|1.1484209420902145|\n",
      "\n",
      "|564068124|   4804660|1.4734073729074115|0.49112022742769906| 0.982272566768376|\n",
      "\n",
      "|564068124|   1201465|1.3654886875358836| 0.4551541321085482|0.9103263393353906|\n",
      "\n",
      "+---------+----------+------------------+-------------------+------------------+\n",
      "\n",
      "only showing top 20 rows\n",
      "\n",
      "\n"
     ]
    },
    {
     "name": "stderr",
     "output_type": "stream",
     "text": [
      "\n",
      "                                                                                \r"
     ]
    }
   ],
   "source": [
    "# Products with the highest number of interactions for the user\n",
    "\n",
    "interactions.filter(col('user_id') == 564068124).sort('purchases', ascending=False).show()"
   ]
  },
  {
   "cell_type": "code",
   "execution_count": 3,
   "id": "3e97e1a6-095e-4acb-b254-c62ea8c7cc4e",
   "metadata": {},
   "outputs": [],
   "source": [
    "sc.stop()"
   ]
  }
 ],
 "metadata": {
  "kernelspec": {
   "display_name": "Python 3 (ipykernel)",
   "language": "python",
   "name": "python3"
  },
  "language_info": {
   "codemirror_mode": {
    "name": "ipython",
    "version": 3
   },
   "file_extension": ".py",
   "mimetype": "text/x-python",
   "name": "python",
   "nbconvert_exporter": "python",
   "pygments_lexer": "ipython3",
   "version": "3.12.3"
  }
 },
 "nbformat": 4,
 "nbformat_minor": 5
}
